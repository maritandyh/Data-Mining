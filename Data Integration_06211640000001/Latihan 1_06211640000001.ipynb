{
 "cells": [
  {
   "cell_type": "markdown",
   "metadata": {},
   "source": [
    "# Praktikum 1"
   ]
  },
  {
   "cell_type": "code",
   "execution_count": 1,
   "metadata": {},
   "outputs": [
    {
     "name": "stdout",
     "output_type": "stream",
     "text": [
      "23\n",
      "156.5\n",
      "Female\n"
     ]
    }
   ],
   "source": [
    "#Type of variable\n",
    "Age = 23 #integer\n",
    "Height = 156.5 #float\n",
    "Gender = \"Female\" #string\n",
    "\n",
    "print (Age)\n",
    "print (Height)\n",
    "print (Gender)"
   ]
  },
  {
   "cell_type": "code",
   "execution_count": 2,
   "metadata": {},
   "outputs": [
    {
     "name": "stdout",
     "output_type": "stream",
     "text": [
      "<class 'int'>\n",
      "<class 'float'>\n",
      "<class 'str'>\n"
     ]
    }
   ],
   "source": [
    "print (type(Age))\n",
    "print (type(Height))\n",
    "print (type(Gender))"
   ]
  },
  {
   "cell_type": "code",
   "execution_count": 3,
   "metadata": {},
   "outputs": [
    {
     "name": "stdout",
     "output_type": "stream",
     "text": [
      "['apple', 'banana']\n",
      "['this is string', 10]\n",
      "[['apple', 'banana'], ['this is string', 10]]\n"
     ]
    }
   ],
   "source": [
    "#List\n",
    "fruits = [] #empty list\n",
    "fruits = [\"apple\", \"banana\"] #list with 2 elements\n",
    "another_list = [\"this is string\", 10] #list with different types of elements\n",
    "\n",
    "print(fruits)\n",
    "print(another_list)\n",
    "\n",
    "combined = [fruits, another_list]\n",
    "print(combined)"
   ]
  },
  {
   "cell_type": "code",
   "execution_count": 4,
   "metadata": {},
   "outputs": [
    {
     "name": "stdout",
     "output_type": "stream",
     "text": [
      "['apple', 'banana', 'orange']\n",
      "['apple', 'banana', 'orange', 'mango']\n"
     ]
    }
   ],
   "source": [
    "#Add element to a list\n",
    "fruits = [\"apple\", \"banana\"]\n",
    "fruits.append(\"orange\")  #append is the syntax to add\n",
    "print(fruits)\n",
    "\n",
    "fruits = fruits+[\"mango\"]\n",
    "print(fruits)"
   ]
  },
  {
   "cell_type": "code",
   "execution_count": 5,
   "metadata": {},
   "outputs": [
    {
     "name": "stdout",
     "output_type": "stream",
     "text": [
      "(0, 5)\n",
      "('red', 'green', 'blue')\n"
     ]
    }
   ],
   "source": [
    "#Tuple\n",
    "#Tuple is similar to list but immutable once created\n",
    "#List bisa beda variabelnya (tipe datanya), bisa digabungkan\n",
    "#Tuple variabelnya (tipe datanya) harus sejenis, tidak bisa digabungkan\n",
    "#1. list bisa ditambahkan isinya, kalau tuple gabisa\n",
    "#2. list bisa gabungan tipe datanya : string, numerik, dll ; kalau tuple hanya untuk tipe data yang sama\n",
    "#3. List pakai kurung siku, tuple kurung biasa, set pakai kurung kurawal\n",
    "coordinate = (0,5)\n",
    "colors = (\"red\", \"green\", \"blue\")\n",
    "print(coordinate)\n",
    "print(colors)"
   ]
  },
  {
   "cell_type": "code",
   "execution_count": 6,
   "metadata": {},
   "outputs": [],
   "source": [
    "### Data integration\n",
    "#pandas untuk mengimport data\n",
    "#numpy sebagai vektornya\n",
    "import pandas as pd\n",
    "import numpy as np"
   ]
  },
  {
   "cell_type": "code",
   "execution_count": 7,
   "metadata": {},
   "outputs": [
    {
     "name": "stdout",
     "output_type": "stream",
     "text": [
      "  key   A   B   C   D\n",
      "0  K0  A0  B0  C0  D0\n",
      "1  K1  A1  B1  C1  D1\n",
      "2  K2  A2  B2  C2  D2\n",
      "3  K3  A3  B3  C3  D3\n"
     ]
    }
   ],
   "source": [
    "## Merging \n",
    "#HARUS ADA VARIABEL YANG SAMA dalam latihan ini key\n",
    "left = pd.DataFrame({'key': ['K0', 'K1', 'K2', 'K3'],\n",
    "                    'A': ['A0', 'A1', 'A2', 'A3'],\n",
    "                    'B': ['B0', 'B1', 'B2', 'B3']})\n",
    "right = pd.DataFrame({'key': ['K0', 'K1', 'K2', 'K3'],\n",
    "                    'C': ['C0', 'C1', 'C2', 'C3'],\n",
    "                    'D': ['D0', 'D1', 'D2', 'D3']})\n",
    "result1 = pd.merge(left, right, on='key')\n",
    "print(result1)"
   ]
  },
  {
   "cell_type": "code",
   "execution_count": 8,
   "metadata": {},
   "outputs": [
    {
     "name": "stdout",
     "output_type": "stream",
     "text": [
      "  key1 key2   A   B   C   D\n",
      "0   K0   K0  A0  B0  C0  D0\n",
      "1   K1   K0  A2  B2  C1  D1\n",
      "2   K1   K0  A2  B2  C2  D2\n"
     ]
    }
   ],
   "source": [
    "# Multiple Key\n",
    "left = pd.DataFrame({'key1': ['K0', 'K0', 'K1', 'K2'],\n",
    "                     'key2': ['K0', 'K1', 'K0', 'K1'],\n",
    "                     'A': ['A0', 'A1', 'A2', 'A3'],\n",
    "                     'B': ['B0', 'B1', 'B2', 'B3']})\n",
    "right = pd.DataFrame({'key1': ['K0', 'K1', 'K1', 'K2'],\n",
    "                      'key2': ['K0', 'K0', 'K0', 'K0'],\n",
    "                      'C': ['C0', 'C1', 'C2', 'C3'],\n",
    "                      'D': ['D0', 'D1', 'D2', 'D3']})\n",
    "result2 = pd.merge(left, right, on=['key1', 'key2'])\n",
    "print(result2)"
   ]
  },
  {
   "cell_type": "code",
   "execution_count": 10,
   "metadata": {},
   "outputs": [
    {
     "name": "stdout",
     "output_type": "stream",
     "text": [
      "   NRP   IPK   IPS  ETS  EAS\n",
      "0    1  3.65  3.76   90   78\n",
      "1    2  3.89  3.87   98   87\n",
      "2    3  3.56  3.67   87   80\n"
     ]
    }
   ],
   "source": [
    "# Marging\n",
    "nrp1 = pd.read_csv(\"E:\\DATA1.csv\")\n",
    "nrp2 = pd.read_csv(\"E:\\DATA2.csv\")\n",
    "\n",
    "nrp_complete = pd.merge(nrp1, nrp2, on = 'NRP')\n",
    "print(nrp_complete)"
   ]
  },
  {
   "cell_type": "code",
   "execution_count": 12,
   "metadata": {},
   "outputs": [
    {
     "name": "stdout",
     "output_type": "stream",
     "text": [
      "     A    B    C    D\n",
      "0   A0   B0   C0   D0\n",
      "1   A1   B1   C1   D1\n",
      "2   A2   B2   C2   D2\n",
      "3   A3   B3   C3   D3\n",
      "0   A4   B4   C4   D4\n",
      "1   A5   B5   C5   D5\n",
      "2   A6   B6   C6   D6\n",
      "3   A7   B7   C7   D7\n",
      "0   A8   B8   C8   D8\n",
      "1   A9   B9   C9   D9\n",
      "2  A10  B10  C10  D10\n",
      "3  A11  B11  C11  D11\n"
     ]
    }
   ],
   "source": [
    "## Concatenating\n",
    "df1 = pd.DataFrame({'A': ['A0', 'A1', 'A2', 'A3'],\n",
    "                'B': ['B0', 'B1', 'B2', 'B3'],\n",
    "                'C': ['C0', 'C1', 'C2', 'C3'],\n",
    "                'D': ['D0', 'D1', 'D2', 'D3']})\n",
    "df2 = pd.DataFrame({'A': ['A4', 'A5', 'A6', 'A7'],\n",
    "                'B': ['B4', 'B5', 'B6', 'B7'],\n",
    "                'C': ['C4', 'C5', 'C6', 'C7'],\n",
    "                'D': ['D4', 'D5', 'D6', 'D7']})\n",
    "df3 = pd.DataFrame({'A': ['A8', 'A9', 'A10', 'A11'],\n",
    "                'B': ['B8', 'B9', 'B10', 'B11'],\n",
    "                'C': ['C8', 'C9', 'C10', 'C11'],\n",
    "                'D': ['D8', 'D9', 'D10', 'D11']})\n",
    "\n",
    "result = pd.concat([df1, df2, df3])\n",
    "print(result)"
   ]
  }
 ],
 "metadata": {
  "kernelspec": {
   "display_name": "Python 3",
   "language": "python",
   "name": "python3"
  },
  "language_info": {
   "codemirror_mode": {
    "name": "ipython",
    "version": 3
   },
   "file_extension": ".py",
   "mimetype": "text/x-python",
   "name": "python",
   "nbconvert_exporter": "python",
   "pygments_lexer": "ipython3",
   "version": "3.7.1"
  }
 },
 "nbformat": 4,
 "nbformat_minor": 2
}
